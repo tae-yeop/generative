{
 "cells": [
  {
   "cell_type": "code",
   "execution_count": 1,
   "metadata": {},
   "outputs": [],
   "source": [
    "from omegaconf import OmegaConf"
   ]
  },
  {
   "cell_type": "code",
   "execution_count": 2,
   "metadata": {},
   "outputs": [],
   "source": [
    "config = OmegaConf.load('/home/aiteam/tykim/generative_model/framework/diffusion/ControlNet/models/cldm_v15.yaml')"
   ]
  },
  {
   "cell_type": "code",
   "execution_count": 3,
   "metadata": {},
   "outputs": [
    {
     "data": {
      "text/plain": [
       "{'model': {'target': 'cldm.cldm.ControlLDM', 'params': {'linear_start': 0.00085, 'linear_end': 0.012, 'num_timesteps_cond': 1, 'log_every_t': 200, 'timesteps': 1000, 'first_stage_key': 'jpg', 'cond_stage_key': 'txt', 'control_key': 'hint', 'image_size': 64, 'channels': 4, 'cond_stage_trainable': False, 'conditioning_key': 'crossattn', 'monitor': 'val/loss_simple_ema', 'scale_factor': 0.18215, 'use_ema': False, 'only_mid_control': False, 'control_stage_config': {'target': 'cldm.cldm.ControlNet', 'params': {'image_size': 32, 'in_channels': 4, 'hint_channels': 3, 'model_channels': 320, 'attention_resolutions': [4, 2, 1], 'num_res_blocks': 2, 'channel_mult': [1, 2, 4, 4], 'num_heads': 8, 'use_spatial_transformer': True, 'transformer_depth': 1, 'context_dim': 768, 'use_checkpoint': True, 'legacy': False}}, 'unet_config': {'target': 'cldm.cldm.ControlledUnetModel', 'params': {'image_size': 32, 'in_channels': 4, 'out_channels': 4, 'model_channels': 320, 'attention_resolutions': [4, 2, 1], 'num_res_blocks': 2, 'channel_mult': [1, 2, 4, 4], 'num_heads': 8, 'use_spatial_transformer': True, 'transformer_depth': 1, 'context_dim': 768, 'use_checkpoint': True, 'legacy': False}}, 'first_stage_config': {'target': 'ldm.models.autoencoder.AutoencoderKL', 'params': {'embed_dim': 4, 'monitor': 'val/rec_loss', 'ddconfig': {'double_z': True, 'z_channels': 4, 'resolution': 256, 'in_channels': 3, 'out_ch': 3, 'ch': 128, 'ch_mult': [1, 2, 4, 4], 'num_res_blocks': 2, 'attn_resolutions': [], 'dropout': 0.0}, 'lossconfig': {'target': 'torch.nn.Identity'}}}, 'cond_stage_config': {'target': 'ldm.modules.encoders.modules.FrozenCLIPEmbedder'}}}}"
      ]
     },
     "execution_count": 3,
     "metadata": {},
     "output_type": "execute_result"
    }
   ],
   "source": [
    "config"
   ]
  },
  {
   "cell_type": "code",
   "execution_count": 8,
   "metadata": {},
   "outputs": [],
   "source": [
    "def instantiate_from_config(config):\n",
    "    if not \"target\" in config:\n",
    "        if config == '__is_first_stage__':\n",
    "            return None\n",
    "        elif config == \"__is_unconditional__\":\n",
    "            return None\n",
    "        raise KeyError(\"Expected key `target` to instantiate.\")\n",
    "    print(config['target'])\n"
   ]
  },
  {
   "cell_type": "code",
   "execution_count": 9,
   "metadata": {},
   "outputs": [
    {
     "name": "stdout",
     "output_type": "stream",
     "text": [
      "cldm.cldm.ControlLDM\n"
     ]
    }
   ],
   "source": [
    "instantiate_from_config(config.model)"
   ]
  },
  {
   "cell_type": "code",
   "execution_count": 12,
   "metadata": {},
   "outputs": [
    {
     "data": {
      "text/plain": [
       "{'linear_start': 0.00085, 'linear_end': 0.012, 'num_timesteps_cond': 1, 'log_every_t': 200, 'timesteps': 1000, 'first_stage_key': 'jpg', 'cond_stage_key': 'txt', 'control_key': 'hint', 'image_size': 64, 'channels': 4, 'cond_stage_trainable': False, 'conditioning_key': 'crossattn', 'monitor': 'val/loss_simple_ema', 'scale_factor': 0.18215, 'use_ema': False, 'only_mid_control': False, 'control_stage_config': {'target': 'cldm.cldm.ControlNet', 'params': {'image_size': 32, 'in_channels': 4, 'hint_channels': 3, 'model_channels': 320, 'attention_resolutions': [4, 2, 1], 'num_res_blocks': 2, 'channel_mult': [1, 2, 4, 4], 'num_heads': 8, 'use_spatial_transformer': True, 'transformer_depth': 1, 'context_dim': 768, 'use_checkpoint': True, 'legacy': False}}, 'unet_config': {'target': 'cldm.cldm.ControlledUnetModel', 'params': {'image_size': 32, 'in_channels': 4, 'out_channels': 4, 'model_channels': 320, 'attention_resolutions': [4, 2, 1], 'num_res_blocks': 2, 'channel_mult': [1, 2, 4, 4], 'num_heads': 8, 'use_spatial_transformer': True, 'transformer_depth': 1, 'context_dim': 768, 'use_checkpoint': True, 'legacy': False}}, 'first_stage_config': {'target': 'ldm.models.autoencoder.AutoencoderKL', 'params': {'embed_dim': 4, 'monitor': 'val/rec_loss', 'ddconfig': {'double_z': True, 'z_channels': 4, 'resolution': 256, 'in_channels': 3, 'out_ch': 3, 'ch': 128, 'ch_mult': [1, 2, 4, 4], 'num_res_blocks': 2, 'attn_resolutions': [], 'dropout': 0.0}, 'lossconfig': {'target': 'torch.nn.Identity'}}}, 'cond_stage_config': {'target': 'ldm.modules.encoders.modules.FrozenCLIPEmbedder'}}"
      ]
     },
     "execution_count": 12,
     "metadata": {},
     "output_type": "execute_result"
    }
   ],
   "source": [
    "config.model.get(\"params\", dict())"
   ]
  },
  {
   "cell_type": "code",
   "execution_count": 19,
   "metadata": {},
   "outputs": [],
   "source": [
    "def p(linear_start, **kwargs):\n",
    "    print(linear_start)\n",
    "    print(type(kwargs))\n",
    "    print(kwargs)"
   ]
  },
  {
   "cell_type": "code",
   "execution_count": 20,
   "metadata": {},
   "outputs": [
    {
     "name": "stdout",
     "output_type": "stream",
     "text": [
      "0.00085\n",
      "<class 'dict'>\n",
      "{'linear_end': 0.012, 'num_timesteps_cond': 1, 'log_every_t': 200, 'timesteps': 1000, 'first_stage_key': 'jpg', 'cond_stage_key': 'txt', 'control_key': 'hint', 'image_size': 64, 'channels': 4, 'cond_stage_trainable': False, 'conditioning_key': 'crossattn', 'monitor': 'val/loss_simple_ema', 'scale_factor': 0.18215, 'use_ema': False, 'only_mid_control': False, 'control_stage_config': {'target': 'cldm.cldm.ControlNet', 'params': {'image_size': 32, 'in_channels': 4, 'hint_channels': 3, 'model_channels': 320, 'attention_resolutions': [4, 2, 1], 'num_res_blocks': 2, 'channel_mult': [1, 2, 4, 4], 'num_heads': 8, 'use_spatial_transformer': True, 'transformer_depth': 1, 'context_dim': 768, 'use_checkpoint': True, 'legacy': False}}, 'unet_config': {'target': 'cldm.cldm.ControlledUnetModel', 'params': {'image_size': 32, 'in_channels': 4, 'out_channels': 4, 'model_channels': 320, 'attention_resolutions': [4, 2, 1], 'num_res_blocks': 2, 'channel_mult': [1, 2, 4, 4], 'num_heads': 8, 'use_spatial_transformer': True, 'transformer_depth': 1, 'context_dim': 768, 'use_checkpoint': True, 'legacy': False}}, 'first_stage_config': {'target': 'ldm.models.autoencoder.AutoencoderKL', 'params': {'embed_dim': 4, 'monitor': 'val/rec_loss', 'ddconfig': {'double_z': True, 'z_channels': 4, 'resolution': 256, 'in_channels': 3, 'out_ch': 3, 'ch': 128, 'ch_mult': [1, 2, 4, 4], 'num_res_blocks': 2, 'attn_resolutions': [], 'dropout': 0.0}, 'lossconfig': {'target': 'torch.nn.Identity'}}}, 'cond_stage_config': {'target': 'ldm.modules.encoders.modules.FrozenCLIPEmbedder'}}\n"
     ]
    }
   ],
   "source": [
    "p(**config.model.get(\"params\", dict()))"
   ]
  },
  {
   "cell_type": "code",
   "execution_count": 32,
   "metadata": {},
   "outputs": [],
   "source": [
    "import torch\n",
    "import lovely_tensors as lt\n",
    "import math\n",
    "import numpy as np\n",
    "\n",
    "\n",
    "lt.monkey_patch()\n",
    "timesteps= 100\n",
    "s = 0.008"
   ]
  },
  {
   "cell_type": "code",
   "execution_count": 26,
   "metadata": {},
   "outputs": [
    {
     "data": {
      "text/plain": [
       "tensor[101] x∈[1.911e-15, 1.000] μ=0.496 σ=0.356"
      ]
     },
     "execution_count": 26,
     "metadata": {},
     "output_type": "execute_result"
    }
   ],
   "source": [
    "steps = timesteps + 1\n",
    "x = torch.linspace(0, timesteps, steps)\n",
    "alphas_cumprod = torch.cos(((x / timesteps) + s) / (1 + s) * math.pi * 0.5) ** 2\n",
    "alphas_cumprod"
   ]
  },
  {
   "cell_type": "code",
   "execution_count": 28,
   "metadata": {},
   "outputs": [
    {
     "data": {
      "text/plain": [
       "tensor[101] x∈[1.911e-15, 1.000] μ=0.496 σ=0.356"
      ]
     },
     "execution_count": 28,
     "metadata": {},
     "output_type": "execute_result"
    }
   ],
   "source": [
    "alphas_cumprod = alphas_cumprod / alphas_cumprod[0]\n",
    "alphas_cumprod"
   ]
  },
  {
   "cell_type": "code",
   "execution_count": 29,
   "metadata": {},
   "outputs": [
    {
     "data": {
      "text/plain": [
       "tensor[100] x∈[0.001, 1.000] μ=0.079 σ=0.147"
      ]
     },
     "execution_count": 29,
     "metadata": {},
     "output_type": "execute_result"
    }
   ],
   "source": [
    "betas = 1 - (alphas_cumprod[1:] / alphas_cumprod[:-1])\n",
    "betas"
   ]
  },
  {
   "cell_type": "code",
   "execution_count": 33,
   "metadata": {},
   "outputs": [
    {
     "data": {
      "text/plain": [
       "tensor[100] x∈[0.001, 1.000] μ=0.079 σ=0.147"
      ]
     },
     "execution_count": 33,
     "metadata": {},
     "output_type": "execute_result"
    }
   ],
   "source": [
    "np.clip(betas, 0.0001, 0.9999)"
   ]
  },
  {
   "cell_type": "code",
   "execution_count": 34,
   "metadata": {},
   "outputs": [
    {
     "ename": "AttributeError",
     "evalue": "module 'torch' has no attribute 'clip'",
     "output_type": "error",
     "traceback": [
      "\u001b[0;31m---------------------------------------------------------------------------\u001b[0m",
      "\u001b[0;31mAttributeError\u001b[0m                            Traceback (most recent call last)",
      "\u001b[1;32m/home/aiteam/tykim/generative_model/framework/diffusion/ControlNet/test.ipynb Cell 14\u001b[0m in \u001b[0;36m1\n\u001b[0;32m----> <a href='vscode-notebook-cell://ssh-remote%2B211.168.94.221/home/aiteam/tykim/generative_model/framework/diffusion/ControlNet/test.ipynb#X20sdnNjb2RlLXJlbW90ZQ%3D%3D?line=0'>1</a>\u001b[0m torch\u001b[39m.\u001b[39;49mclip(\u001b[39m1\u001b[39m)\n",
      "\u001b[0;31mAttributeError\u001b[0m: module 'torch' has no attribute 'clip'"
     ]
    }
   ],
   "source": [
    "torch.clamp"
   ]
  },
  {
   "cell_type": "code",
   "execution_count": 35,
   "metadata": {},
   "outputs": [
    {
     "name": "stdout",
     "output_type": "stream",
     "text": [
      "Package                  Version\n",
      "------------------------ ------------\n",
      "absl-py                  1.4.0\n",
      "accelerate               0.14.0\n",
      "addict                   2.4.0\n",
      "aiofiles                 22.1.0\n",
      "aiohttp                  3.8.3\n",
      "aiohttp-cors             0.7.0\n",
      "aiorwlock                1.3.0\n",
      "aiosignal                1.3.1\n",
      "aiosqlite                0.18.0\n",
      "antlr4-python3-runtime   4.8\n",
      "anyio                    3.6.2\n",
      "appdirs                  1.4.4\n",
      "argon2-cffi              21.3.0\n",
      "argon2-cffi-bindings     21.2.0\n",
      "asttokens                2.2.1\n",
      "async-timeout            4.0.2\n",
      "attrs                    22.2.0\n",
      "audiolm-pytorch          0.17.0\n",
      "audioread                3.0.0\n",
      "Babel                    2.12.1\n",
      "backcall                 0.2.0\n",
      "Backtesting              0.3.3\n",
      "bayesian-optimization    1.3.1\n",
      "bcrypt                   4.0.1\n",
      "beartype                 0.12.0\n",
      "beautifulsoup4           4.12.0\n",
      "bitarray                 2.7.3\n",
      "bleach                   6.0.0\n",
      "blessed                  1.20.0\n",
      "blobfile                 1.3.1\n",
      "bokeh                    3.0.3\n",
      "cachetools               5.3.0\n",
      "certifi                  2022.9.24\n",
      "cffi                     1.15.1\n",
      "charset-normalizer       2.0.12\n",
      "click                    8.1.3\n",
      "clip                     1.0\n",
      "cloudpickle              2.2.1\n",
      "colorama                 0.4.6\n",
      "colorful                 0.5.5\n",
      "comm                     0.1.3\n",
      "contextlib2              21.6.0\n",
      "contourpy                1.0.7\n",
      "cryptography             38.0.3\n",
      "cycler                   0.11.0\n",
      "Cython                   0.29.33\n",
      "debugpy                  1.6.6\n",
      "decorator                5.1.1\n",
      "defusedxml               0.7.1\n",
      "deprecation              2.1.0\n",
      "distlib                  0.3.6\n",
      "dlib                     19.23.1\n",
      "dm-tree                  0.1.8\n",
      "dominate                 2.7.0\n",
      "einops                   0.6.0\n",
      "ema-pytorch              0.2.1\n",
      "entrypoints              0.4\n",
      "executing                1.2.0\n",
      "fairseq                  0.12.2\n",
      "fastapi                  0.86.0\n",
      "fastcore                 1.5.28\n",
      "fastjsonschema           2.16.3\n",
      "ffmpy                    0.3.0\n",
      "filelock                 3.9.0\n",
      "focal-frequency-loss     0.3.0\n",
      "fonttools                4.39.2\n",
      "frozendict               2.3.4\n",
      "frozenlist               1.3.3\n",
      "fsspec                   2022.11.0\n",
      "ftfy                     6.1.1\n",
      "future                   0.18.3\n",
      "gdown                    4.6.0\n",
      "google-api-core          2.11.0\n",
      "google-api-python-client 2.82.0\n",
      "google-auth              2.16.2\n",
      "google-auth-httplib2     0.1.0\n",
      "google-auth-oauthlib     0.4.6\n",
      "googleapis-common-protos 1.58.0\n",
      "gpustat                  1.0.0\n",
      "gradio                   3.9.1\n",
      "grpcio                   1.51.3\n",
      "gshell                   5.6.1\n",
      "gym                      0.23.1\n",
      "gym-notices              0.0.8\n",
      "Gymnasium                0.26.3\n",
      "gymnasium-notices        0.0.1\n",
      "h11                      0.12.0\n",
      "html5lib                 1.1\n",
      "httpcore                 0.15.0\n",
      "httplib2                 0.22.0\n",
      "httpx                    0.23.0\n",
      "huggingface-hub          0.12.1\n",
      "hydra-core               1.0.7\n",
      "hyperopt                 0.2.7\n",
      "idna                     3.4\n",
      "imageio                  2.26.1\n",
      "imageio-ffmpeg           0.4.8\n",
      "importlib-metadata       6.1.0\n",
      "importlib-resources      5.12.0\n",
      "ipykernel                6.22.0\n",
      "ipython                  8.11.0\n",
      "ipython-genutils         0.2.0\n",
      "ipywidgets               8.0.5\n",
      "jedi                     0.18.2\n",
      "Jinja2                   3.0.3\n",
      "joblib                   1.2.0\n",
      "json5                    0.9.11\n",
      "jsonschema               4.17.3\n",
      "jupyter                  1.0.0\n",
      "jupyter_client           8.1.0\n",
      "jupyter-console          6.6.3\n",
      "jupyter_core             5.3.0\n",
      "jupyter-events           0.6.3\n",
      "jupyter_packaging        0.12.3\n",
      "jupyter_server           2.5.0\n",
      "jupyter_server_fileid    0.8.0\n",
      "jupyter_server_terminals 0.4.4\n",
      "jupyter_server_ydoc      0.8.0\n",
      "jupyter-ydoc             0.2.3\n",
      "jupyterlab               3.6.2\n",
      "jupyterlab-pygments      0.2.2\n",
      "jupyterlab_server        2.21.0\n",
      "jupyterlab-widgets       3.0.6\n",
      "kiwisolver               1.4.4\n",
      "kornia                   0.2.0\n",
      "lazy_loader              0.1\n",
      "librosa                  0.10.0\n",
      "linkify-it-py            1.0.3\n",
      "lion-pytorch             0.0.7\n",
      "llvmlite                 0.39.1\n",
      "lmdb                     1.2.1\n",
      "local-attention          1.6.0\n",
      "lovely-numpy             0.2.8\n",
      "lovely-tensors           0.1.14\n",
      "lpips                    0.1.4\n",
      "lxml                     4.9.2\n",
      "lz4                      4.3.2\n",
      "Markdown                 3.4.3\n",
      "markdown-it-py           2.1.0\n",
      "MarkupSafe               2.1.2\n",
      "matplotlib               3.7.1\n",
      "matplotlib-inline        0.1.6\n",
      "mdit-py-plugins          0.3.1\n",
      "mdurl                    0.1.2\n",
      "Mega-pytorch             0.0.15\n",
      "mistune                  2.0.5\n",
      "mkl-fft                  1.3.1\n",
      "mkl-random               1.2.2\n",
      "mkl-service              2.4.0\n",
      "ml-collections           0.1.0\n",
      "mpi4py                   3.1.4\n",
      "msgpack                  1.0.4\n",
      "multidict                6.0.2\n",
      "multitasking             0.0.11\n",
      "musiclm-pytorch          0.0.26\n",
      "natsort                  8.1.0\n",
      "nbclassic                0.5.3\n",
      "nbclient                 0.7.2\n",
      "nbconvert                7.2.10\n",
      "nbformat                 5.8.0\n",
      "nest-asyncio             1.5.6\n",
      "networkx                 3.0\n",
      "notebook                 6.5.3\n",
      "notebook_shim            0.2.2\n",
      "numba                    0.56.4\n",
      "numpy                    1.24.2\n",
      "nvdiffrast               0.3.0\n",
      "nvidia-ml-py             11.495.46\n",
      "oauth2client             4.1.3\n",
      "oauthlib                 3.2.2\n",
      "omegaconf                2.0.6\n",
      "open3d                   0.13.0\n",
      "opencensus               0.11.1\n",
      "opencensus-context       0.1.3\n",
      "opencv-python            4.2.0.34\n",
      "orjson                   3.8.1\n",
      "packaging                23.0\n",
      "pandas                   1.5.3\n",
      "pandocfilters            1.5.0\n",
      "paramiko                 2.12.0\n",
      "parso                    0.8.3\n",
      "pexpect                  4.8.0\n",
      "pickleshare              0.7.5\n",
      "Pillow                   9.4.0\n",
      "pip                      22.2.2\n",
      "pkgutil_resolve_name     1.3.10\n",
      "platformdirs             3.1.1\n",
      "plyfile                  0.8.1\n",
      "pooch                    1.6.0\n",
      "portalocker              2.7.0\n",
      "prometheus-client        0.16.0\n",
      "prompt-toolkit           3.0.38\n",
      "protobuf                 4.22.1\n",
      "psutil                   5.9.4\n",
      "ptyprocess               0.7.0\n",
      "pure-eval                0.2.2\n",
      "py-spy                   0.3.14\n",
      "py4j                     0.10.9.7\n",
      "pyarrow                  10.0.0\n",
      "pyasn1                   0.4.8\n",
      "pyasn1-modules           0.2.8\n",
      "pycollada                0.7.2\n",
      "pycparser                2.21\n",
      "pycryptodome             3.15.0\n",
      "pycryptodomex            3.17\n",
      "pydantic                 1.10.2\n",
      "PyDrive                  1.3.1\n",
      "pydub                    0.25.1\n",
      "pyglet                   2.0.5\n",
      "Pygments                 2.14.0\n",
      "PyMCubes                 0.1.4\n",
      "PyNaCl                   1.5.0\n",
      "pyparsing                3.0.9\n",
      "pyrsistent               0.19.3\n",
      "PySocks                  1.7.1\n",
      "python-dateutil          2.8.2\n",
      "python-json-logger       2.0.7\n",
      "python-multipart         0.0.5\n",
      "pytorch-lightning        0.7.5\n",
      "pytz                     2022.7.1\n",
      "PyWavelets               1.4.1\n",
      "PyYAML                   6.0\n",
      "pyzmq                    25.0.2\n",
      "qtconsole                5.4.1\n",
      "QtPy                     2.3.0\n",
      "ray                      2.3.0\n",
      "regex                    2022.10.31\n",
      "requests                 2.28.0\n",
      "requests-oauthlib        1.3.1\n",
      "rfc3339-validator        0.1.4\n",
      "rfc3986                  1.5.0\n",
      "rfc3986-validator        0.1.1\n",
      "rich                     13.3.1\n",
      "rsa                      4.9\n",
      "sacrebleu                2.3.1\n",
      "scikit-image             0.19.3\n",
      "scikit-learn             1.2.2\n",
      "scipy                    1.10.1\n",
      "Send2Trash               1.8.0\n",
      "sentencepiece            0.1.97\n",
      "setuptools               60.2.0\n",
      "six                      1.16.0\n",
      "smart-open               6.3.0\n",
      "sniffio                  1.3.0\n",
      "soundfile                0.12.1\n",
      "soupsieve                2.4\n",
      "soxr                     0.3.3\n",
      "stack-data               0.6.2\n",
      "starlette                0.20.4\n",
      "ta                       0.10.2\n",
      "tabulate                 0.9.0\n",
      "tensorboard              2.12.0\n",
      "tensorboard-data-server  0.7.0\n",
      "tensorboard-plugin-wit   1.8.1\n",
      "tensorboardX             2.5.1\n",
      "terminado                0.17.1\n",
      "test-tube                0.7.5\n",
      "threadpoolctl            3.1.0\n",
      "tifffile                 2023.2.3\n",
      "tinycss2                 1.2.1\n",
      "tokenizers               0.13.2\n",
      "tomli                    2.0.1\n",
      "tomlkit                  0.11.6\n",
      "torch                    1.4.0\n",
      "torchaudio               0.12.1+cu113\n",
      "torchsearchsorted        1.1\n",
      "torchvision              0.5.0\n",
      "tornado                  6.2\n",
      "tqdm                     4.65.0\n",
      "traitlets                5.9.0\n",
      "transformers             4.26.1\n",
      "trimesh                  3.21.0\n",
      "typer                    0.7.0\n",
      "typing_extensions        4.5.0\n",
      "uc-micro-py              1.0.1\n",
      "umap                     0.1.1\n",
      "uritemplate              4.1.1\n",
      "urllib3                  1.26.12\n",
      "uvicorn                  0.19.0\n",
      "vector-quantize-pytorch  1.0.4\n",
      "virtualenv               20.19.0\n",
      "wcwidth                  0.2.6\n",
      "webencodings             0.5.1\n",
      "websocket-client         1.5.1\n",
      "websockets               10.4\n",
      "Werkzeug                 2.2.3\n",
      "wheel                    0.40.0\n",
      "widgetsnbextension       4.0.6\n",
      "x-clip                   0.12.1\n",
      "xmltodict                0.12.0\n",
      "xyzservices              2022.9.0\n",
      "y-py                     0.6.0\n",
      "yarl                     1.8.1\n",
      "yfinance                 0.2.11\n",
      "ypy-websocket            0.8.4\n",
      "zipp                     3.15.0\n"
     ]
    }
   ],
   "source": [
    "!pip list"
   ]
  }
 ],
 "metadata": {
  "kernelspec": {
   "display_name": "3dfm",
   "language": "python",
   "name": "python3"
  },
  "language_info": {
   "codemirror_mode": {
    "name": "ipython",
    "version": 3
   },
   "file_extension": ".py",
   "mimetype": "text/x-python",
   "name": "python",
   "nbconvert_exporter": "python",
   "pygments_lexer": "ipython3",
   "version": "3.8.15"
  },
  "orig_nbformat": 4
 },
 "nbformat": 4,
 "nbformat_minor": 2
}
